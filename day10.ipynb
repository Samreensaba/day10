{
 "cells": [
  {
   "cell_type": "code",
   "execution_count": 4,
   "id": "d26f3357-3171-4c9f-bf4a-1ed6e6288127",
   "metadata": {},
   "outputs": [
    {
     "name": "stdout",
     "output_type": "stream",
     "text": [
      "TIP CALCULATOR\n"
     ]
    },
    {
     "name": "stdin",
     "output_type": "stream",
     "text": [
      "What is the bill amount?  156.889\n",
      "What percentage of tip would you like to give?  15\n",
      "How many people are splitting the bill?  3\n"
     ]
    },
    {
     "name": "stdout",
     "output_type": "stream",
     "text": [
      "Each person should pay:  60.14\n"
     ]
    }
   ],
   "source": [
    "print(\"TIP CALCULATOR\")\n",
    "billAmount = float(input(\"What is the bill amount? \"))\n",
    "tip = float(input(\"What percentage of tip would you like to give? \"))\n",
    "people = int(input(\"How many people are splitting the bill? \"))\n",
    "totalAmount = (billAmount * tip / 100) + billAmount\n",
    "finalAmount = totalAmount / people\n",
    "eachShare = round(finalAmount, 2)\n",
    "print(\"Each person should pay: \", eachShare)"
   ]
  },
  {
   "cell_type": "code",
   "execution_count": null,
   "id": "915160ce-2af2-4544-a1f9-95cbebca622f",
   "metadata": {},
   "outputs": [],
   "source": []
  }
 ],
 "metadata": {
  "kernelspec": {
   "display_name": "Python 3 (ipykernel)",
   "language": "python",
   "name": "python3"
  },
  "language_info": {
   "codemirror_mode": {
    "name": "ipython",
    "version": 3
   },
   "file_extension": ".py",
   "mimetype": "text/x-python",
   "name": "python",
   "nbconvert_exporter": "python",
   "pygments_lexer": "ipython3",
   "version": "3.12.4"
  }
 },
 "nbformat": 4,
 "nbformat_minor": 5
}
